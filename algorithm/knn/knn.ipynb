{
 "cells": [
  {
   "cell_type": "markdown",
   "metadata": {},
   "source": [
    "# KNN-K近邻算法原理\n",
    "\n",
    "本质上就是对「近朱者赤，近墨者黑」的一个数学描述。这个算法表达的是：一个样本该如何分类，看看它距离最近的K个样本是啥类别。\n",
    "\n",
    "问题的关键在于：\n",
    "\n",
    "- 如何度量距离\n",
    "- 如何确定K值\n",
    "\n",
    "分类步骤：\n",
    "\n",
    "step1、计算测试样本和训练样本中每个样本的距离\n",
    "\n",
    "step2、对距离排序\n",
    "\n",
    "step3、找出距离最小的K个样本\n",
    "\n",
    "step4、根据少数服从多数的原则，将测试样本归类到K个样本中占比最高的那一类\n",
    "\n"
   ]
  },
  {
   "cell_type": "markdown",
   "metadata": {},
   "source": [
    "# KNN对手写数字进行识别分类"
   ]
  },
  {
   "cell_type": "markdown",
   "metadata": {},
   "source": [
    "## 加载数据"
   ]
  },
  {
   "cell_type": "code",
   "execution_count": 3,
   "metadata": {},
   "outputs": [],
   "source": [
    "# 加载数据 \n",
    "\n",
    "from sklearn.datasets import load_digits\n",
    "\n",
    "digits = load_digits()\n",
    "\n",
    "data = digits.data"
   ]
  },
  {
   "cell_type": "markdown",
   "metadata": {},
   "source": [
    "## 数据探索"
   ]
  },
  {
   "cell_type": "code",
   "execution_count": 14,
   "metadata": {},
   "outputs": [
    {
     "name": "stdout",
     "output_type": "stream",
     "text": [
      "(1797, 64)\n",
      "[[ 0.  0.  5. 13.  9.  1.  0.  0.]\n",
      " [ 0.  0. 13. 15. 10. 15.  5.  0.]\n",
      " [ 0.  3. 15.  2.  0. 11.  8.  0.]\n",
      " [ 0.  4. 12.  0.  0.  8.  8.  0.]\n",
      " [ 0.  5.  8.  0.  0.  9.  8.  0.]\n",
      " [ 0.  4. 11.  0.  1. 12.  7.  0.]\n",
      " [ 0.  2. 14.  5. 10. 12.  0.  0.]\n",
      " [ 0.  0.  6. 13. 10.  0.  0.  0.]]\n",
      "0\n"
     ]
    },
    {
     "data": {
      "image/png": "[encoded data removed]",
      "text/plain": [
       "<Figure size 640x480 with 1 Axes>"
      ]
     },
     "metadata": {},
     "output_type": "display_data"
    }
   ],
   "source": [
    "# 数据探索\n",
    "\n",
    "print(data.shape)\n",
    "\n",
    "# 查看第一张图\n",
    "\n",
    "print(digits.images[0])\n",
    "\n",
    "print(digits.target[0])\n",
    "\n",
    "import matplotlib.pyplot as plt\n",
    "\n",
    "plt.imshow(digits.images[0],cmap=plt.cm.gray_r,interpolation=\"nearest\")\n",
    "plt.show()"
   ]
  },
  {
   "cell_type": "markdown",
   "metadata": {},
   "source": [
    "## 划分测试集和训练集"
   ]
  },
  {
   "cell_type": "code",
   "execution_count": 15,
   "metadata": {},
   "outputs": [],
   "source": [
    "# 划分训练集和测试集\n",
    "\n",
    "from sklearn.model_selection import train_test_split\n",
    "\n",
    "train_x,test_x,train_y,test_y = train_test_split(data,digits.target,test_size=0.25,random_state=33)\n"
   ]
  },
  {
   "cell_type": "markdown",
   "metadata": {},
   "source": [
    "## 规范化"
   ]
  },
  {
   "cell_type": "code",
   "execution_count": 16,
   "metadata": {},
   "outputs": [],
   "source": [
    "# 采用z-score规范化\n",
    "\n",
    "from sklearn.preprocessing import StandardScaler\n",
    "\n",
    "ss = StandardScaler()\n",
    "train_z_x = ss.fit_transform(train_x)\n",
    "test_z_x = ss.transform(test_x)"
   ]
  },
  {
   "cell_type": "code",
   "execution_count": 17,
   "metadata": {},
   "outputs": [],
   "source": [
    "# 采用min-max规范化\n",
    "\n",
    "from sklearn.preprocessing import MinMaxScaler\n",
    "\n",
    "mms = MinMaxScaler()\n",
    "\n",
    "train_mm_x = mms.fit_transform(train_x)\n",
    "test_mm_x = mms.transform(test_x)\n"
   ]
  },
  {
   "cell_type": "markdown",
   "metadata": {},
   "source": [
    "## 分类器结果对比"
   ]
  },
  {
   "cell_type": "code",
   "execution_count": 18,
   "metadata": {},
   "outputs": [
    {
     "name": "stdout",
     "output_type": "stream",
     "text": [
      "KNN准确率:  0.9755555555555555\n"
     ]
    }
   ],
   "source": [
    "# 创建knn分类器\n",
    "from sklearn.neighbors import KNeighborsClassifier\n",
    "from sklearn.metrics import accuracy_score\n",
    "\n",
    "knn = KNeighborsClassifier()\n",
    "\n",
    "knn.fit(train_z_x,train_y)\n",
    "\n",
    "test_predict = knn.predict(test_z_x)\n",
    "\n",
    "print(\"KNN准确率: \",accuracy_score(test_y,test_predict))\n"
   ]
  },
  {
   "cell_type": "code",
   "execution_count": 19,
   "metadata": {},
   "outputs": [
    {
     "name": "stdout",
     "output_type": "stream",
     "text": [
      "SVM准确率:  0.9866666666666667\n"
     ]
    }
   ],
   "source": [
    "# svm分类器\n",
    "\n",
    "from sklearn.svm import SVC\n",
    "\n",
    "svm = SVC()\n",
    "\n",
    "svm.fit(train_z_x,train_y)\n",
    "\n",
    "test_predict = svm.predict(test_z_x)\n",
    "\n",
    "print(\"SVM准确率: \",accuracy_score(test_y,test_predict))\n"
   ]
  },
  {
   "cell_type": "code",
   "execution_count": 21,
   "metadata": {},
   "outputs": [
    {
     "name": "stdout",
     "output_type": "stream",
     "text": [
      "朴素贝叶斯准确率:  0.8844444444444445\n"
     ]
    }
   ],
   "source": [
    "# 朴素贝叶斯\n",
    "\n",
    "from sklearn.naive_bayes import MultinomialNB\n",
    "\n",
    "mb = MultinomialNB()\n",
    "\n",
    "mb.fit(train_mm_x,train_y)\n",
    "\n",
    "test_predict = mb.predict(test_mm_x)\n",
    "\n",
    "print(\"朴素贝叶斯准确率: \",accuracy_score(test_y,test_predict))\n"
   ]
  },
  {
   "cell_type": "code",
   "execution_count": 22,
   "metadata": {},
   "outputs": [
    {
     "name": "stdout",
     "output_type": "stream",
     "text": [
      "决策树准确率:  0.8533333333333334\n"
     ]
    }
   ],
   "source": [
    "# 决策树\n",
    "\n",
    "from sklearn.tree import DecisionTreeClassifier\n",
    "\n",
    "dt = DecisionTreeClassifier()\n",
    "# 在做多项式朴素贝叶斯分类的时候，传入的数据不能有负数。\n",
    "# 因为 Z-Score 会将数值规范化为一个标准的正态分布，即均值为 0，方差为 1，数值会包含负数。\n",
    "# 因此我们需要采用 Min-Max 规范化，将数据规范化到[0,1]范围内\n",
    "\n",
    "dt.fit(train_mm_x,train_y)\n",
    "\n",
    "test_predict = dt.predict(test_mm_x)\n",
    "\n",
    "print(\"决策树准确率: \",accuracy_score(test_y,test_predict))"
   ]
  },
  {
   "cell_type": "code",
   "execution_count": null,
   "metadata": {},
   "outputs": [],
   "source": []
  }
 ],
 "metadata": {
  "kernelspec": {
   "display_name": "base",
   "language": "python",
   "name": "python3"
  },
  "language_info": {
   "codemirror_mode": {
    "name": "ipython",
    "version": 3
   },
   "file_extension": ".py",
   "mimetype": "text/x-python",
   "name": "python",
   "nbconvert_exporter": "python",
   "pygments_lexer": "ipython3",
   "version": "3.12.4"
  }
 },
 "nbformat": 4,
 "nbformat_minor": 2
}
