{
 "cells": [
  {
   "cell_type": "markdown",
   "metadata": {},
   "source": [
    "# K-Means算法原理\n",
    "\n",
    "K-Means算法是一种无监督学习算法，用于将数据集划分为K个簇。\n",
    "\n",
    "K-Means算法的核心思想是：将数据集中的每个样本点分配到距离最近的簇中心，然后通过迭代优化簇中心，使得簇内样本点的距离最小化。\n",
    "\n",
    "K-Means算法的步骤如下：\n",
    "\n",
    "1. 随机选择K个初始簇中心\n",
    "2. 将每个样本点分配到距离最近的簇中心\n",
    "3. 更新簇中心，使得簇内样本点的距离最小化\n",
    "4. 重复步骤2和步骤3，直到簇中心不再发生变化或达到最大迭代次数\n",
    "\n"
   ]
  },
  {
   "cell_type": "code",
   "execution_count": null,
   "metadata": {},
   "outputs": [],
   "source": []
  }
 ],
 "metadata": {
  "kernelspec": {
   "display_name": "base",
   "language": "python",
   "name": "python3"
  },
  "language_info": {
   "codemirror_mode": {
    "name": "ipython",
    "version": 3
   },
   "file_extension": ".py",
   "mimetype": "text/x-python",
   "name": "python",
   "nbconvert_exporter": "python",
   "pygments_lexer": "ipython3",
   "version": "3.12.4"
  }
 },
 "nbformat": 4,
 "nbformat_minor": 2
}
